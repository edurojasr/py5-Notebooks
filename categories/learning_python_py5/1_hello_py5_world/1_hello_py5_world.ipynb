{
 "cells": [
  {
   "cell_type": "code",
   "execution_count": null,
   "metadata": {},
   "outputs": [],
   "source": [
    "# Magic comment because the use of openjdk snap\n",
    "# %env JAVA_HOME=/snap/openjdk/1293/jdk\n"
   ]
  },
  {
   "attachments": {},
   "cell_type": "markdown",
   "metadata": {},
   "source": [
    "# Chapter 1. *Hello py5 World!*"
   ]
  },
  {
   "attachments": {},
   "cell_type": "markdown",
   "metadata": {},
   "source": [
    "Once we get the jupyter notebook set up now we can start by using python inside the jupyter notebook, by using a builtin function (*more on that later*) we can show a message in our screen."
   ]
  },
  {
   "cell_type": "code",
   "execution_count": null,
   "metadata": {},
   "outputs": [],
   "source": [
    "print(\"hello py5 world!\")\n"
   ]
  },
  {
   "attachments": {},
   "cell_type": "markdown",
   "metadata": {},
   "source": [
    "You can see that running the cell above \"printed\" the message *\"hello py5 world\"*, we give the instruction \"print\" which is a python builtin function, and python interpreter *run* or execute that instruction printing our message in our screens, the interpreter reads through what we have write and determines what each word  means.\n",
    "\n",
    "In the cell above the interpreter sees the word print followed by parentheses \n",
    "```python\n",
    "print()\n",
    "``` \n",
    "The interpreter \"knows\" is a instruction so it prints to the screen whatever is inside the parentheses, **how python knows what is a instruction?** when we write python code we use words in english that are reserved to tell python or most precisely to tell the *python interpreter* what to do, this words are called [*keywords*](https://www.w3schools.com/python/python_ref_keywords.asp) there are many keywords and as we add code, libraries, packages to our python programs, this list of reserved words will grow.\n",
    "\n",
    "The combination of a keyword and parenthesis its called a *function*, in this example functions are in a way the instructions that we give to que python interpreter, we can use builtin function or write our own function which allows us to reuse code in an efficient way."
   ]
  },
  {
   "attachments": {},
   "cell_type": "markdown",
   "metadata": {},
   "source": [
    "## Variables\n",
    "\n",
    "You may notice that the notebook, highlights different parts of code cell above in different ways. `print()` is the name of a function and displays that word in one color but *\"Hello py5 world!\"* is not Python code, and we see it in a different color the different colors highlight the syntax of writhing python code, this is  useful so we can see the reserved words or keywords in or code."
   ]
  },
  {
   "cell_type": "code",
   "execution_count": null,
   "metadata": {},
   "outputs": [],
   "source": [
    "message = \"hello py5 world!\"\n",
    "\n",
    "print(message)\n"
   ]
  },
  {
   "attachments": {},
   "cell_type": "markdown",
   "metadata": {},
   "source": [
    "Now we’ve added a variable named `message` and assigned a value using the `=` operator the `\"hello py5 world!\"` text is now the information associated with that variable.\n",
    "\n",
    "This assignment of a variable makes the python interpreter to associates the variable `message` with the \"hello py5 world!\" text."
   ]
  },
  {
   "attachments": {},
   "cell_type": "markdown",
   "metadata": {},
   "source": [
    "### *But can we make it better?* yes, using py5!"
   ]
  },
  {
   "cell_type": "code",
   "execution_count": null,
   "metadata": {},
   "outputs": [],
   "source": [
    "# This is a inline comment\n",
    "\n",
    "import py5  # With this we are able to use py5\n"
   ]
  },
  {
   "attachments": {},
   "cell_type": "markdown",
   "metadata": {},
   "source": [
    "In the code block above we can see a new *keyword* `import` this keyword tell the python interpreter that we are going to use a package, module or library in or script or program, think that this packages are like a set of new tools that we need to bring to our program by importing them into our python script.\n",
    "\n",
    "We also can see in the code cell above the use of a *inline comment* using not a keyword but a special character `#` we can write inside our code `# this is a inline comment`, this character tells the python interpreter that the text after `#` should be ignored, we use inline comments to tell other people reading our code what are we doing or explaining how our code works.\n",
    "\n",
    "> Code are more often read than write so good comments are essential we use comments to help other people understand what we code\n",
    "\n",
    "Now that we have imported py5 package to our jupyter notebook, we can used to improve the *hello world* example"
   ]
  },
  {
   "cell_type": "code",
   "execution_count": null,
   "metadata": {},
   "outputs": [],
   "source": [
    "def setup():\n",
    "    py5.size(400, 400)\n",
    "\n",
    "\n",
    "def draw():\n",
    "    font = py5.create_font(\"DejaVu Sans\", 32)\n",
    "    py5.text_font(font)\n",
    "    py5.text(message, 50, 150)\n",
    "\n",
    "\n",
    "py5.run_sketch()\n",
    "\n",
    "# When you run this cell and everything is setup correctly a emerging window appears\n"
   ]
  },
  {
   "attachments": {},
   "cell_type": "markdown",
   "metadata": {},
   "source": [
    "*Yikes!* thats a lot of code just for a \"Hello world\" isn't it?\n",
    "\n",
    "Don't worry, we are going to explain each part of the code cell above so you can understand whats going on there and later as we get more knowledge about programming with Python, you are going to see how simple it's is.\n",
    "\n",
    "*Remember* that previously we use:\n",
    "\n",
    "```python\n",
    "import py5\n",
    "```\n",
    "This is like bringing the tool box to the workbench\n",
    "\n",
    "Next we define a function called `setup()`. *Remember `print()`?* print is a builtin function, but we can define our own functions too, for that we use the keyword `def` with this we can `def`ine our own functions and we can called whatever we want, **BUT** for the use of py5 we need to define 2 special functions or methods that we cannot change their names: `setup()` and `draw()`.\n",
    "\n",
    "```python\n",
    "def setup()\n",
    "    py5.size(400, 400)\n",
    "```\n",
    "Typically the `setup()` function is used to initialize variables or set py5 drawing options. In this example the window size is set to be 400 pixels wide and 400 pixels hight. Almost always you’ll begin a setup function similar to this one. Notice `py5.size` to the size() function has a `py5.` prefix this is because we are using another function *most precisly* a method of py5 for defining a size.\n",
    "\n",
    "This function will be used one single time before beginning to repeatedly use the `draw()` function for each frame of the animation, when we **use** a function we *called* by its name, so when se say *call the function* its like using it.\n",
    "\n",
    "```python\n",
    "def draw()\n",
    "    font = py5.create_font(\"DejaVu Sans\", 32)\n",
    "    py5.text_font(font)\n",
    "    py5.text(message, 50, 150)\n",
    "```\n",
    "\n",
    "Inside the `draw()`\n"
   ]
  },
  {
   "attachments": {},
   "cell_type": "markdown",
   "metadata": {},
   "source": [
    "# TODO"
   ]
  }
 ],
 "metadata": {
  "kernelspec": {
   "display_name": "py5",
   "language": "python",
   "name": "python3"
  },
  "language_info": {
   "codemirror_mode": {
    "name": "ipython",
    "version": 3
   },
   "file_extension": ".py",
   "mimetype": "text/x-python",
   "name": "python",
   "nbconvert_exporter": "python",
   "pygments_lexer": "ipython3",
   "version": "3.10.7"
  },
  "orig_nbformat": 4
 },
 "nbformat": 4,
 "nbformat_minor": 2
}
