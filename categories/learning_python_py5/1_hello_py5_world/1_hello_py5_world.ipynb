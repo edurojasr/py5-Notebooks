{
 "cells": [
  {
   "cell_type": "code",
   "execution_count": 4,
   "metadata": {},
   "outputs": [],
   "source": [
    "\"\"\"\n",
    "Magic comment because the use of openjdk snap\n",
    "%env JAVA_HOME=/snap/openjdk/1293/jdk\n",
    "\"\"\"\n"
   ]
  },
  {
   "attachments": {},
   "cell_type": "markdown",
   "metadata": {},
   "source": [
    "# Chapter 1. *Hello py5 World!*"
   ]
  },
  {
   "attachments": {},
   "cell_type": "markdown",
   "metadata": {},
   "source": [
    "We can start by using python in the jupyter notebook, by using a builtin function (*more on that later*) we can show a message in our screen"
   ]
  },
  {
   "cell_type": "code",
   "execution_count": 5,
   "metadata": {},
   "outputs": [
    {
     "name": "stdout",
     "output_type": "stream",
     "text": [
      "hello py world!\n"
     ]
    }
   ],
   "source": [
    "print(\"hello py5 world!\")\n"
   ]
  },
  {
   "attachments": {},
   "cell_type": "markdown",
   "metadata": {},
   "source": [
    "You can see that running the cell above \"printed\" the message *\"hello py5 world\"*, we give the instruction \"print\" which is a python builtin function, and python interpreter *run* or execute that instruction printing our message in our screens, the interpreter reads through what we have write and determines what each word  means.\n",
    "\n",
    "In the cell above the interpreter sees the word print followed by parentheses, the interpreter \"knows\" is a instruction so it prints to the screen whatever is inside the parentheses, *how python knows what is a instruction?* when we write python code we use words in english that are reserved to tell python or most precisely to tell the *python interpreter* what to do, this words are called [*keywords*](https://www.w3schools.com/python/python_ref_keywords.asp) there are many keywords and as we add code, libraries, packages to our python programs, this list of reserved words will grow.\n",
    "\n",
    "The combination of a keyword and parenthesis its called a *function*, functions are in a way the instructions that we give to que python interpreter, we can use builtin function or write our own function which allows us to reuse code in an efficient way.\n",
    " \n",
    "## *But can we make it better?*\n",
    "\n",
    "# TODO add example of hello py5 world using py5\n"
   ]
  }
 ],
 "metadata": {
  "kernelspec": {
   "display_name": "py5",
   "language": "python",
   "name": "python3"
  },
  "language_info": {
   "codemirror_mode": {
    "name": "ipython",
    "version": 3
   },
   "file_extension": ".py",
   "mimetype": "text/x-python",
   "name": "python",
   "nbconvert_exporter": "python",
   "pygments_lexer": "ipython3",
   "version": "3.10.7"
  },
  "orig_nbformat": 4
 },
 "nbformat": 4,
 "nbformat_minor": 2
}
